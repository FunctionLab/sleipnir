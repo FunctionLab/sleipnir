{
 "cells": [
  {
   "cell_type": "code",
   "execution_count": null,
   "metadata": {},
   "outputs": [],
   "source": [
    "## import the necessary libraries\n",
    "from thrift.transport import TTransport, TSocket\n",
    "from thrift.protocol.TBinaryProtocol import TBinaryProtocol\n",
    "\n",
    "from pyseek import SeekRPC\n",
    "from pyseek.ttypes import SeekQuery, QueryParams, QueryResult"
   ]
  },
  {
   "cell_type": "code",
   "execution_count": null,
   "metadata": {},
   "outputs": [],
   "source": [
    "## establish a server connection\n",
    "host = 'localhost'\n",
    "port = 9090\n",
    "\n",
    "socket = TSocket.TSocket(host, port)\n",
    "transport = TTransport.TBufferedTransport(socket)\n",
    "protocol = TBinaryProtocol(transport)\n",
    "client = SeekRPC.Client(protocol)\n",
    "transport.open()"
   ]
  },
  {
   "cell_type": "code",
   "execution_count": null,
   "metadata": {},
   "outputs": [],
   "source": [
    "## run a query\n",
    "genes = ['90634', '23659']\n",
    "params = QueryParams()\n",
    "query = SeekQuery(species='mock', genes=genes, parameters=params)\n",
    "result = client.seek_query(query)\n",
    "if result.success is True:\n",
    "    for gs in result.gene_scores:\n",
    "        print(f'gene: {gs.name}, {gs.value}')\n",
    "    for ds in result.dataset_weights:\n",
    "        print(f'dset: {ds.name}, {ds.value}')\n",
    "else:\n",
    "    print(f'query error: {result.statusMsg}')"
   ]
  },
  {
   "cell_type": "code",
   "execution_count": null,
   "metadata": {},
   "outputs": [],
   "source": [
    "## close the server connection\n",
    "transport.close()"
   ]
  }
 ],
 "metadata": {
  "kernelspec": {
   "display_name": "Python 3",
   "language": "python",
   "name": "python3"
  },
  "language_info": {
   "codemirror_mode": {
    "name": "ipython",
    "version": 3
   },
   "file_extension": ".py",
   "mimetype": "text/x-python",
   "name": "python",
   "nbconvert_exporter": "python",
   "pygments_lexer": "ipython3",
   "version": "3.7.9"
  }
 },
 "nbformat": 4,
 "nbformat_minor": 4
}
