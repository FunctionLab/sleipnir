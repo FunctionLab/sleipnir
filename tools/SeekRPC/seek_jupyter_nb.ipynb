{
 "cells": [
  {
   "cell_type": "code",
   "execution_count": null,
   "metadata": {},
   "outputs": [],
   "source": [
    "## import the necessary libraries\n",
    "from thrift.transport import TTransport, TSocket\n",
    "from thrift.protocol.TBinaryProtocol import TBinaryProtocol\n",
    "\n",
    "from pyseek import SeekRPC\n",
    "from pyseek.ttypes import SeekQuery, QueryParams, QueryResult"
   ]
  },
  {
   "cell_type": "code",
   "execution_count": null,
   "metadata": {},
   "outputs": [],
   "source": [
    "## establish a server connection\n",
    "host = 'localhost'\n",
    "port = 9090\n",
    "\n",
    "socket = TSocket.TSocket(host, port)\n",
    "transport = TTransport.TBufferedTransport(socket)\n",
    "protocol = TBinaryProtocol(transport)\n",
    "client = SeekRPC.Client(protocol)\n",
    "transport.open()"
   ]
  },
  {
   "cell_type": "code",
   "execution_count": null,
   "metadata": {},
   "outputs": [],
   "source": [
    "## run a query\n",
    "def runQuery(species, genes, useSymbols=False):\n",
    "    params = QueryParams(distance_measure=\"ZscoreHubbinessCorrected\",\n",
    "                         min_query_genes_fraction=0.5,\n",
    "                         min_genome_fraction=0.5,\n",
    "                         use_gene_symbols=useSymbols)\n",
    "\n",
    "    query = SeekQuery(species=species, genes=genes, parameters=params)\n",
    "    \n",
    "    result = client.seek_query(query)\n",
    "    if result.success is True:\n",
    "        for i, gs in enumerate(result.gene_scores):\n",
    "            print(f'gene: {gs.name}, {gs.value}')\n",
    "            if i > 100: break\n",
    "\n",
    "        for i, ds in enumerate(result.dataset_weights):\n",
    "            print(f'dset: {ds.name}, {ds.value}')\n",
    "            if i > 100: break\n",
    "    else:\n",
    "        print(f'query error: {result.statusMsg}')\n"
   ]
  },
  {
   "cell_type": "code",
   "execution_count": null,
   "metadata": {},
   "outputs": [],
   "source": [
    "species = 'fly'\n",
    "genes = ['CG18094', 'CG10189']\n",
    "# genes = [35234', '35232']\n",
    "runQuery(species, genes, useSymbols=True)"
   ]
  },
  {
   "cell_type": "code",
   "execution_count": null,
   "metadata": {},
   "outputs": [],
   "source": [
    "species = 'mouse'\n",
    "genes = ['GLI1', 'GLI2', 'PTCH1']\n",
    "# genes = ['14632', '14633', '19206']\n",
    "runQuery(species, genes, useSymbols=True)"
   ]
  },
  {
   "cell_type": "code",
   "execution_count": null,
   "metadata": {},
   "outputs": [],
   "source": [
    "species = 'human'\n",
    "genes = ['SMO', 'PTCH1', 'PTCH2', 'BOC']\n",
    "runQuery(species, genes, useSymbols=True)"
   ]
  },
  {
   "cell_type": "code",
   "execution_count": null,
   "metadata": {},
   "outputs": [],
   "source": [
    "species = 'mock'\n",
    "genes = ['90634', '23659']\n",
    "runQuery(species, genes, useSymbols=False)"
   ]
  },
  {
   "cell_type": "code",
   "execution_count": null,
   "metadata": {},
   "outputs": [],
   "source": [
    "## close the server connection\n",
    "transport.close()"
   ]
  }
 ],
 "metadata": {
  "kernelspec": {
   "display_name": "Python 3",
   "language": "python",
   "name": "python3"
  },
  "language_info": {
   "codemirror_mode": {
    "name": "ipython",
    "version": 3
   },
   "file_extension": ".py",
   "mimetype": "text/x-python",
   "name": "python",
   "nbconvert_exporter": "python",
   "pygments_lexer": "ipython3",
   "version": "3.7.9"
  }
 },
 "nbformat": 4,
 "nbformat_minor": 4
}
