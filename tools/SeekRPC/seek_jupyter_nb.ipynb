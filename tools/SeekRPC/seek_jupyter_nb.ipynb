{
 "cells": [
  {
   "cell_type": "code",
   "execution_count": null,
   "source": [
    "## import the necessary libraries\n",
    "import importlib\n",
    "from thrift.transport import TTransport, TSocket\n",
    "from thrift.protocol.TBinaryProtocol import TBinaryProtocol\n",
    "SeekRPC = importlib.import_module('gen-py.seek_rpc.SeekRPC')\n",
    "ttypes = importlib.import_module('gen-py.seek_rpc.ttypes')\n",
    "constants = importlib.import_module('gen-py.seek_rpc.constants')"
   ],
   "outputs": [],
   "metadata": {}
  },
  {
   "cell_type": "code",
   "execution_count": null,
   "source": [
    "## establish a server connection\n",
    "host = 'localhost'\n",
    "port = 9090\n",
    "\n",
    "socket = TSocket.TSocket(host, port)\n",
    "transport = TTransport.TBufferedTransport(socket)\n",
    "protocol = TBinaryProtocol(transport)\n",
    "client = SeekRPC.Client(protocol)\n",
    "transport.open()\n",
    "# Verify version of client and server match\n",
    "version = client.getRpcVersion()\n",
    "assert version == constants.RPCVersion"
   ],
   "outputs": [],
   "metadata": {}
  },
  {
   "cell_type": "code",
   "execution_count": null,
   "source": [
    "## run a query\n",
    "def runQuery(species, genes, useSymbols=False, numToPrint=10):\n",
    "    params = SeekRPC.SeekQueryParams(\n",
    "        distanceMeasure=ttypes.DistanceMeasure.ZScoreHubbinessCorrected,\n",
    "        minQueryGenesFraction=0.5,\n",
    "        minGenomeFraction=0.5,\n",
    "        useGeneSymbols=useSymbols\n",
    "    )\n",
    "\n",
    "    genes = [gene.upper() for gene in genes]\n",
    "    queryArgs = SeekRPC.SeekQueryArgs(species=species, genes=genes, parameters=params)\n",
    "    \n",
    "    result = client.seekQuery(queryArgs)\n",
    "    if result.success is True:\n",
    "        for i, gs in enumerate(result.geneScores):\n",
    "            print(f'gene: {gs.name}, {gs.value}')\n",
    "            if i > numToPrint: break\n",
    "\n",
    "        for i, ds in enumerate(result.datasetWeights):\n",
    "            print(f'dset: {ds.name}, {ds.value}')\n",
    "            if i > numToPrint: break\n",
    "    else:\n",
    "        print(f'query error: {result.statusMsg}')\n"
   ],
   "outputs": [],
   "metadata": {}
  },
  {
   "cell_type": "code",
   "execution_count": null,
   "source": [
    "# functions to run a set of queries in parallel\n",
    "class Query(object):\n",
    "    def __init__(self, species=\"Unknown\", genes=None, useSymbols=False):\n",
    "        self.species = species\n",
    "        self.genes = genes\n",
    "        self.useSymbols = useSymbols\n",
    "\n",
    "def initQuery(query):\n",
    "    params = SeekRPC.SeekQueryParams(\n",
    "        distanceMeasure=ttypes.DistanceMeasure.ZScoreHubbinessCorrected,\n",
    "        minQueryGenesFraction=0.5,\n",
    "        minGenomeFraction=0.5,\n",
    "        useGeneSymbols=query.useSymbols)\n",
    "\n",
    "    query.genes = [gene.upper() for gene in query.genes]\n",
    "    query = SeekRPC.SeekQueryArgs(species=query.species, \n",
    "                              genes=query.genes, \n",
    "                              parameters=params)\n",
    "    task_id = client.seekQueryAsync(query)\n",
    "    return task_id\n",
    "\n",
    "def completeQuery(task_id, numToPrint=10):\n",
    "    result = client.getSeekResult(task_id, block=True)\n",
    "    if result.success is True:\n",
    "        print(f'### {task_id} ###')\n",
    "        for i, gs in enumerate(result.geneScores):\n",
    "            print(f'gene: {gs.name}, {gs.value}')\n",
    "            if i > numToPrint: break\n",
    "\n",
    "        for i, ds in enumerate(result.datasetWeights):\n",
    "            print(f'dset: {ds.name}, {ds.value}')\n",
    "            if i > numToPrint: break\n",
    "    else:\n",
    "        print(f'query error: {result.statusMsg}')\n",
    "    "
   ],
   "outputs": [],
   "metadata": {}
  },
  {
   "cell_type": "code",
   "execution_count": null,
   "source": [
    "# Run series of queries asynchronously\n",
    "queries = [Query('human', ['SMO', 'PTCH1', 'PTCH2', 'BOC'], True),\n",
    "           Query('fly', ['35234', '35232']),\n",
    "           Query('mouse', ['GLI1', 'GLI2', 'PTCH1'], True),\n",
    "           Query('worm', ['ptc-1', 'smo-1', 'tra-1'], True),\n",
    "           Query('yeast', ['FIG1', 'FUS1', 'FUS2'], True),\n",
    "           Query('zebrafish', ['PTCH2', 'PTCH1', 'BOC'], True)]\n",
    "\n",
    "taskIds = [initQuery(q) for q in queries]\n",
    "for taskId in taskIds:\n",
    "    completeQuery(taskId)\n",
    "    "
   ],
   "outputs": [],
   "metadata": {}
  },
  {
   "cell_type": "code",
   "execution_count": null,
   "source": [
    "species = 'fly'\n",
    "genes = ['CG18094', 'CG10189']\n",
    "# genes = [35234', '35232']\n",
    "runQuery(species, genes, useSymbols=True)"
   ],
   "outputs": [],
   "metadata": {}
  },
  {
   "cell_type": "code",
   "execution_count": null,
   "source": [
    "species = 'mouse'\n",
    "genes = ['GLI1', 'GLI2', 'PTCH1']\n",
    "# genes = ['14632', '14633', '19206']\n",
    "runQuery(species, genes, useSymbols=True)"
   ],
   "outputs": [],
   "metadata": {}
  },
  {
   "cell_type": "code",
   "execution_count": null,
   "source": [
    "species = 'human'\n",
    "genes = ['SMO', 'PTCH1', 'PTCH2', 'BOC']\n",
    "runQuery(species, genes, useSymbols=True)"
   ],
   "outputs": [],
   "metadata": {}
  },
  {
   "cell_type": "code",
   "execution_count": null,
   "source": [
    "species = 'sampleBC'\n",
    "genes = ['55755', '64859', '348654', '79791', '7756', '8555', '835', '5347']\n",
    "runQuery(species, genes, useSymbols=False)"
   ],
   "outputs": [],
   "metadata": {}
  },
  {
   "cell_type": "code",
   "execution_count": null,
   "source": [
    "query = Query('sampleBC', ['55755', '64859', '348654', '79791', '7756', '8555', '835', '5347'], False)\n",
    "taskId = initQuery(query)\n",
    "completeQuery(taskId)"
   ],
   "outputs": [],
   "metadata": {}
  },
  {
   "cell_type": "code",
   "execution_count": null,
   "source": [
    "species = 'mock'\n",
    "genes = ['90634', '23659']\n",
    "runQuery(species, genes, useSymbols=False)"
   ],
   "outputs": [],
   "metadata": {}
  },
  {
   "cell_type": "code",
   "execution_count": null,
   "source": [
    "# Run series of queries asynchronously\n",
    "queries = [Query('mock', ['90634', '23659']),\n",
    "           Query('mock', ['90634', '23659']),\n",
    "           Query('mock', ['90634', '23659']),\n",
    "           Query('mock', ['90634', '23659']),\n",
    "           Query('mock', ['90634', '23659']),\n",
    "           Query('mock', ['90634', '23659']),\n",
    "           Query('mock', ['90634', '23659']),\n",
    "          ]\n",
    "\n",
    "taskIds = [initQuery(q) for q in queries]\n",
    "for taskId in taskIds:\n",
    "    completeQuery(taskId)"
   ],
   "outputs": [],
   "metadata": {}
  },
  {
   "cell_type": "code",
   "execution_count": null,
   "source": [
    "## close the server connection\n",
    "transport.close()"
   ],
   "outputs": [],
   "metadata": {}
  }
 ],
 "metadata": {
  "kernelspec": {
   "display_name": "Python 3",
   "language": "python",
   "name": "python3"
  },
  "language_info": {
   "codemirror_mode": {
    "name": "ipython",
    "version": 3
   },
   "file_extension": ".py",
   "mimetype": "text/x-python",
   "name": "python",
   "nbconvert_exporter": "python",
   "pygments_lexer": "ipython3",
   "version": "3.8.2"
  }
 },
 "nbformat": 4,
 "nbformat_minor": 4
}